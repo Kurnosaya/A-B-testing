{
 "cells": [
  {
   "cell_type": "markdown",
   "id": "818de0ad",
   "metadata": {},
   "source": [
    "# A/B Testing with Chi-Squared Test\n",
    "```\n",
    "A/B-тестирование для показателей кликабельности на основе датасета сервиса Keggle.  \n",
    "Этот набор данных содержит результат A/B-тестирования, в ходе которого две группы людей просмотрели старую веб-страницу и новую веб-страницу. Целью этого теста было определить, привели ли изменения новой веб-страницы к значительному\n",
    "увеличению числа конверсий по сравнению со старой.  \n",
    "```"
   ]
  },
  {
   "cell_type": "code",
   "execution_count": 2,
   "id": "d7fc305d",
   "metadata": {},
   "outputs": [],
   "source": [
    "import pandas as pd\n",
    "import numpy as np\n",
    "import scipy as sp\n",
    "import matplotlib.pyplot as plt\n",
    "import seaborn as sns"
   ]
  },
  {
   "cell_type": "markdown",
   "id": "75d65d71",
   "metadata": {},
   "source": [
    "**Словарь данных:**  \n",
    " - `user_id` - код посетителя сайта (уникальный)\n",
    " - `timestamp` - время посещения сайта\n",
    " - `group` - группа посетителей\n",
    " - `landing_page` - веб-страница\n",
    " - `converted` - перешедшие пользователи"
   ]
  },
  {
   "cell_type": "code",
   "execution_count": 3,
   "id": "dc71b93f",
   "metadata": {},
   "outputs": [
    {
     "data": {
      "text/html": [
       "<div>\n",
       "<style scoped>\n",
       "    .dataframe tbody tr th:only-of-type {\n",
       "        vertical-align: middle;\n",
       "    }\n",
       "\n",
       "    .dataframe tbody tr th {\n",
       "        vertical-align: top;\n",
       "    }\n",
       "\n",
       "    .dataframe thead th {\n",
       "        text-align: right;\n",
       "    }\n",
       "</style>\n",
       "<table border=\"1\" class=\"dataframe\">\n",
       "  <thead>\n",
       "    <tr style=\"text-align: right;\">\n",
       "      <th></th>\n",
       "      <th>user_id</th>\n",
       "      <th>timestamp</th>\n",
       "      <th>group</th>\n",
       "      <th>landing_page</th>\n",
       "      <th>converted</th>\n",
       "    </tr>\n",
       "  </thead>\n",
       "  <tbody>\n",
       "    <tr>\n",
       "      <th>0</th>\n",
       "      <td>851104</td>\n",
       "      <td>2017-01-21 22:11:48.556739</td>\n",
       "      <td>control</td>\n",
       "      <td>old_page</td>\n",
       "      <td>0</td>\n",
       "    </tr>\n",
       "    <tr>\n",
       "      <th>1</th>\n",
       "      <td>804228</td>\n",
       "      <td>2017-01-12 08:01:45.159739</td>\n",
       "      <td>control</td>\n",
       "      <td>old_page</td>\n",
       "      <td>0</td>\n",
       "    </tr>\n",
       "    <tr>\n",
       "      <th>2</th>\n",
       "      <td>661590</td>\n",
       "      <td>2017-01-11 16:55:06.154213</td>\n",
       "      <td>treatment</td>\n",
       "      <td>new_page</td>\n",
       "      <td>0</td>\n",
       "    </tr>\n",
       "    <tr>\n",
       "      <th>3</th>\n",
       "      <td>853541</td>\n",
       "      <td>2017-01-08 18:28:03.143765</td>\n",
       "      <td>treatment</td>\n",
       "      <td>new_page</td>\n",
       "      <td>0</td>\n",
       "    </tr>\n",
       "    <tr>\n",
       "      <th>4</th>\n",
       "      <td>864975</td>\n",
       "      <td>2017-01-21 01:52:26.210827</td>\n",
       "      <td>control</td>\n",
       "      <td>old_page</td>\n",
       "      <td>1</td>\n",
       "    </tr>\n",
       "  </tbody>\n",
       "</table>\n",
       "</div>"
      ],
      "text/plain": [
       "   user_id                   timestamp      group landing_page  converted\n",
       "0   851104  2017-01-21 22:11:48.556739    control     old_page          0\n",
       "1   804228  2017-01-12 08:01:45.159739    control     old_page          0\n",
       "2   661590  2017-01-11 16:55:06.154213  treatment     new_page          0\n",
       "3   853541  2017-01-08 18:28:03.143765  treatment     new_page          0\n",
       "4   864975  2017-01-21 01:52:26.210827    control     old_page          1"
      ]
     },
     "execution_count": 3,
     "metadata": {},
     "output_type": "execute_result"
    }
   ],
   "source": [
    "df = pd.read_csv('ab_data.csv')\n",
    "df.head()"
   ]
  },
  {
   "cell_type": "markdown",
   "id": "2afa5074",
   "metadata": {},
   "source": [
    "### Проверка данных на чистоту  \n",
    "   \n",
    "Каждая строка выбранного датасета представляет уникального пользователя и показывает, принадлежат ли они к контрольной (`control`) или экспериментальной группе (`treatment`), а также конвертировались они или нет.  \n",
    "\n",
    "**Контрольная группа просматривала старую страницу, экспериментальная новую**"
   ]
  },
  {
   "cell_type": "code",
   "execution_count": 4,
   "id": "c08ef3f7",
   "metadata": {},
   "outputs": [
    {
     "name": "stdout",
     "output_type": "stream",
     "text": [
      "<class 'pandas.core.frame.DataFrame'>\n",
      "RangeIndex: 294478 entries, 0 to 294477\n",
      "Data columns (total 5 columns):\n",
      " #   Column        Non-Null Count   Dtype \n",
      "---  ------        --------------   ----- \n",
      " 0   user_id       294478 non-null  int64 \n",
      " 1   timestamp     294478 non-null  object\n",
      " 2   group         294478 non-null  object\n",
      " 3   landing_page  294478 non-null  object\n",
      " 4   converted     294478 non-null  int64 \n",
      "dtypes: int64(2), object(3)\n",
      "memory usage: 11.2+ MB\n"
     ]
    }
   ],
   "source": [
    "df.info()"
   ]
  },
  {
   "cell_type": "code",
   "execution_count": 5,
   "id": "c7124c9d",
   "metadata": {},
   "outputs": [
    {
     "data": {
      "text/html": [
       "<div>\n",
       "<style scoped>\n",
       "    .dataframe tbody tr th:only-of-type {\n",
       "        vertical-align: middle;\n",
       "    }\n",
       "\n",
       "    .dataframe tbody tr th {\n",
       "        vertical-align: top;\n",
       "    }\n",
       "\n",
       "    .dataframe thead th {\n",
       "        text-align: right;\n",
       "    }\n",
       "</style>\n",
       "<table border=\"1\" class=\"dataframe\">\n",
       "  <thead>\n",
       "    <tr style=\"text-align: right;\">\n",
       "      <th></th>\n",
       "      <th></th>\n",
       "      <th>user_id</th>\n",
       "      <th>timestamp</th>\n",
       "      <th>converted</th>\n",
       "    </tr>\n",
       "    <tr>\n",
       "      <th>group</th>\n",
       "      <th>landing_page</th>\n",
       "      <th></th>\n",
       "      <th></th>\n",
       "      <th></th>\n",
       "    </tr>\n",
       "  </thead>\n",
       "  <tbody>\n",
       "    <tr>\n",
       "      <th rowspan=\"2\" valign=\"top\">control</th>\n",
       "      <th>new_page</th>\n",
       "      <td>1928</td>\n",
       "      <td>1928</td>\n",
       "      <td>1928</td>\n",
       "    </tr>\n",
       "    <tr>\n",
       "      <th>old_page</th>\n",
       "      <td>145274</td>\n",
       "      <td>145274</td>\n",
       "      <td>145274</td>\n",
       "    </tr>\n",
       "    <tr>\n",
       "      <th rowspan=\"2\" valign=\"top\">treatment</th>\n",
       "      <th>new_page</th>\n",
       "      <td>145311</td>\n",
       "      <td>145311</td>\n",
       "      <td>145311</td>\n",
       "    </tr>\n",
       "    <tr>\n",
       "      <th>old_page</th>\n",
       "      <td>1965</td>\n",
       "      <td>1965</td>\n",
       "      <td>1965</td>\n",
       "    </tr>\n",
       "  </tbody>\n",
       "</table>\n",
       "</div>"
      ],
      "text/plain": [
       "                        user_id  timestamp  converted\n",
       "group     landing_page                               \n",
       "control   new_page         1928       1928       1928\n",
       "          old_page       145274     145274     145274\n",
       "treatment new_page       145311     145311     145311\n",
       "          old_page         1965       1965       1965"
      ]
     },
     "execution_count": 5,
     "metadata": {},
     "output_type": "execute_result"
    }
   ],
   "source": [
    "df.groupby(['group','landing_page']).count()"
   ]
  },
  {
   "cell_type": "markdown",
   "id": "f0bf5685",
   "metadata": {},
   "source": [
    "  \n",
    "Около 2000 человек контрольной группы видели новую страницу веб-сайта, примерно столько же людей экспериментальной группы видели старую страницу. Данные пользователи являются *ошибочными* и для чистоты анализа их необходимо удалить. "
   ]
  },
  {
   "cell_type": "code",
   "execution_count": 6,
   "id": "c34c85f0",
   "metadata": {},
   "outputs": [
    {
     "data": {
      "text/html": [
       "<div>\n",
       "<style scoped>\n",
       "    .dataframe tbody tr th:only-of-type {\n",
       "        vertical-align: middle;\n",
       "    }\n",
       "\n",
       "    .dataframe tbody tr th {\n",
       "        vertical-align: top;\n",
       "    }\n",
       "\n",
       "    .dataframe thead th {\n",
       "        text-align: right;\n",
       "    }\n",
       "</style>\n",
       "<table border=\"1\" class=\"dataframe\">\n",
       "  <thead>\n",
       "    <tr style=\"text-align: right;\">\n",
       "      <th></th>\n",
       "      <th></th>\n",
       "      <th>user_id</th>\n",
       "      <th>timestamp</th>\n",
       "      <th>converted</th>\n",
       "    </tr>\n",
       "    <tr>\n",
       "      <th>group</th>\n",
       "      <th>landing_page</th>\n",
       "      <th></th>\n",
       "      <th></th>\n",
       "      <th></th>\n",
       "    </tr>\n",
       "  </thead>\n",
       "  <tbody>\n",
       "    <tr>\n",
       "      <th>control</th>\n",
       "      <th>old_page</th>\n",
       "      <td>145274</td>\n",
       "      <td>145274</td>\n",
       "      <td>145274</td>\n",
       "    </tr>\n",
       "    <tr>\n",
       "      <th>treatment</th>\n",
       "      <th>new_page</th>\n",
       "      <td>145311</td>\n",
       "      <td>145311</td>\n",
       "      <td>145311</td>\n",
       "    </tr>\n",
       "  </tbody>\n",
       "</table>\n",
       "</div>"
      ],
      "text/plain": [
       "                        user_id  timestamp  converted\n",
       "group     landing_page                               \n",
       "control   old_page       145274     145274     145274\n",
       "treatment new_page       145311     145311     145311"
      ]
     },
     "execution_count": 6,
     "metadata": {},
     "output_type": "execute_result"
    }
   ],
   "source": [
    "df_cleaned = df.loc[(df['group'] == 'control')&(df['landing_page'] == 'old_page'\n",
    "                                               ) | (df['group'] == 'treatment')&(df['landing_page'] == 'new_page')]\n",
    "df_cleaned.groupby(['group','landing_page']).count()"
   ]
  },
  {
   "cell_type": "code",
   "execution_count": 7,
   "id": "6a0801d8",
   "metadata": {},
   "outputs": [
    {
     "name": "stdout",
     "output_type": "stream",
     "text": [
      "<class 'pandas.core.frame.DataFrame'>\n",
      "Int64Index: 290585 entries, 0 to 294477\n",
      "Data columns (total 5 columns):\n",
      " #   Column        Non-Null Count   Dtype \n",
      "---  ------        --------------   ----- \n",
      " 0   user_id       290585 non-null  int64 \n",
      " 1   timestamp     290585 non-null  object\n",
      " 2   group         290585 non-null  object\n",
      " 3   landing_page  290585 non-null  object\n",
      " 4   converted     290585 non-null  int64 \n",
      "dtypes: int64(2), object(3)\n",
      "memory usage: 13.3+ MB\n"
     ]
    }
   ],
   "source": [
    " df_cleaned.info()"
   ]
  },
  {
   "cell_type": "markdown",
   "id": "4b19c53d",
   "metadata": {},
   "source": [
    "Теперь необходимо проверить данные на дубликаты."
   ]
  },
  {
   "cell_type": "code",
   "execution_count": 8,
   "id": "8a023fdb",
   "metadata": {},
   "outputs": [
    {
     "data": {
      "text/plain": [
       "1"
      ]
     },
     "execution_count": 8,
     "metadata": {},
     "output_type": "execute_result"
    }
   ],
   "source": [
    "df_cleaned['user_id'].duplicated().sum()"
   ]
  },
  {
   "cell_type": "code",
   "execution_count": 9,
   "id": "edfe24d1",
   "metadata": {},
   "outputs": [
    {
     "data": {
      "text/html": [
       "<div>\n",
       "<style scoped>\n",
       "    .dataframe tbody tr th:only-of-type {\n",
       "        vertical-align: middle;\n",
       "    }\n",
       "\n",
       "    .dataframe tbody tr th {\n",
       "        vertical-align: top;\n",
       "    }\n",
       "\n",
       "    .dataframe thead th {\n",
       "        text-align: right;\n",
       "    }\n",
       "</style>\n",
       "<table border=\"1\" class=\"dataframe\">\n",
       "  <thead>\n",
       "    <tr style=\"text-align: right;\">\n",
       "      <th></th>\n",
       "      <th>user_id</th>\n",
       "      <th>timestamp</th>\n",
       "      <th>group</th>\n",
       "      <th>landing_page</th>\n",
       "      <th>converted</th>\n",
       "    </tr>\n",
       "  </thead>\n",
       "  <tbody>\n",
       "    <tr>\n",
       "      <th>2893</th>\n",
       "      <td>773192</td>\n",
       "      <td>2017-01-14 02:55:59.590927</td>\n",
       "      <td>treatment</td>\n",
       "      <td>new_page</td>\n",
       "      <td>0</td>\n",
       "    </tr>\n",
       "  </tbody>\n",
       "</table>\n",
       "</div>"
      ],
      "text/plain": [
       "      user_id                   timestamp      group landing_page  converted\n",
       "2893   773192  2017-01-14 02:55:59.590927  treatment     new_page          0"
      ]
     },
     "execution_count": 9,
     "metadata": {},
     "output_type": "execute_result"
    }
   ],
   "source": [
    "dublicates = df_cleaned['user_id'].duplicated()\n",
    "df_cleaned[dublicates]"
   ]
  },
  {
   "cell_type": "code",
   "execution_count": 10,
   "id": "1f94a230",
   "metadata": {},
   "outputs": [
    {
     "data": {
      "text/html": [
       "<div>\n",
       "<style scoped>\n",
       "    .dataframe tbody tr th:only-of-type {\n",
       "        vertical-align: middle;\n",
       "    }\n",
       "\n",
       "    .dataframe tbody tr th {\n",
       "        vertical-align: top;\n",
       "    }\n",
       "\n",
       "    .dataframe thead th {\n",
       "        text-align: right;\n",
       "    }\n",
       "</style>\n",
       "<table border=\"1\" class=\"dataframe\">\n",
       "  <thead>\n",
       "    <tr style=\"text-align: right;\">\n",
       "      <th></th>\n",
       "      <th>user_id</th>\n",
       "      <th>timestamp</th>\n",
       "      <th>group</th>\n",
       "      <th>landing_page</th>\n",
       "      <th>converted</th>\n",
       "    </tr>\n",
       "  </thead>\n",
       "  <tbody>\n",
       "    <tr>\n",
       "      <th>1899</th>\n",
       "      <td>773192</td>\n",
       "      <td>2017-01-09 05:37:58.781806</td>\n",
       "      <td>treatment</td>\n",
       "      <td>new_page</td>\n",
       "      <td>0</td>\n",
       "    </tr>\n",
       "    <tr>\n",
       "      <th>2893</th>\n",
       "      <td>773192</td>\n",
       "      <td>2017-01-14 02:55:59.590927</td>\n",
       "      <td>treatment</td>\n",
       "      <td>new_page</td>\n",
       "      <td>0</td>\n",
       "    </tr>\n",
       "  </tbody>\n",
       "</table>\n",
       "</div>"
      ],
      "text/plain": [
       "      user_id                   timestamp      group landing_page  converted\n",
       "1899   773192  2017-01-09 05:37:58.781806  treatment     new_page          0\n",
       "2893   773192  2017-01-14 02:55:59.590927  treatment     new_page          0"
      ]
     },
     "execution_count": 10,
     "metadata": {},
     "output_type": "execute_result"
    }
   ],
   "source": [
    " df_cleaned[df_cleaned['user_id'] == 773192]"
   ]
  },
  {
   "cell_type": "code",
   "execution_count": 11,
   "id": "2e6e20d4",
   "metadata": {},
   "outputs": [
    {
     "name": "stdout",
     "output_type": "stream",
     "text": [
      "<class 'pandas.core.frame.DataFrame'>\n",
      "Int64Index: 290584 entries, 0 to 294477\n",
      "Data columns (total 5 columns):\n",
      " #   Column        Non-Null Count   Dtype \n",
      "---  ------        --------------   ----- \n",
      " 0   user_id       290584 non-null  int64 \n",
      " 1   timestamp     290584 non-null  object\n",
      " 2   group         290584 non-null  object\n",
      " 3   landing_page  290584 non-null  object\n",
      " 4   converted     290584 non-null  int64 \n",
      "dtypes: int64(2), object(3)\n",
      "memory usage: 13.3+ MB\n"
     ]
    }
   ],
   "source": [
    "df_cleaned = df_cleaned.drop_duplicates(subset='user_id', keep=\"first\")\n",
    "df_cleaned.info()"
   ]
  },
  {
   "cell_type": "markdown",
   "id": "bd8f4849",
   "metadata": {},
   "source": [
    "### Анализ данных      \n",
    "Рассмотрим распределение конверсии пользователей по группам."
   ]
  },
  {
   "cell_type": "code",
   "execution_count": 12,
   "id": "59cd4ad8",
   "metadata": {},
   "outputs": [
    {
     "data": {
      "image/png": "[encoded data removed]",
      "text/plain": [
       "<Figure size 432x360 with 1 Axes>"
      ]
     },
     "metadata": {
      "needs_background": "light"
     },
     "output_type": "display_data"
    }
   ],
   "source": [
    "fig, ax = plt.subplots(figsize = (6, 5))\n",
    "sns.countplot(x = 'converted', data = df_cleaned, hue = 'group')\n",
    "plt.show()"
   ]
  },
  {
   "cell_type": "markdown",
   "id": "1e87bc76",
   "metadata": {},
   "source": [
    "На первый взгляд доля конверсии одинаковая для обеих групп.  \n",
    "Рассчитаем соотношение посетителей по страницам."
   ]
  },
  {
   "cell_type": "code",
   "execution_count": 13,
   "id": "17101ecf",
   "metadata": {},
   "outputs": [
    {
     "data": {
      "text/plain": [
       "user_id  timestamp                   group    landing_page  converted\n",
       "630002   2017-01-19 19:20:56.438330  control  old_page      0            1\n",
       "841104   2017-01-15 06:01:46.792793  control  old_page      0            1\n",
       "841089   2017-01-08 20:01:07.481530  control  old_page      0            1\n",
       "841090   2017-01-14 21:58:43.475916  control  old_page      1            1\n",
       "841093   2017-01-17 02:03:27.903125  control  old_page      0            1\n",
       "                                                                        ..\n",
       "735700   2017-01-21 23:26:33.722148  control  old_page      0            1\n",
       "735697   2017-01-21 22:22:35.687498  control  old_page      0            1\n",
       "735696   2017-01-04 00:44:37.721582  control  old_page      0            1\n",
       "735695   2017-01-11 12:13:00.245379  control  old_page      0            1\n",
       "945998   2017-01-16 07:08:02.207969  control  old_page      0            1\n",
       "Length: 145274, dtype: int64"
      ]
     },
     "execution_count": 13,
     "metadata": {},
     "output_type": "execute_result"
    }
   ],
   "source": [
    "df_cleaned[df_cleaned['landing_page'] == 'old_page'].value_counts()"
   ]
  },
  {
   "cell_type": "code",
   "execution_count": 14,
   "id": "32165072",
   "metadata": {},
   "outputs": [
    {
     "data": {
      "text/plain": [
       "user_id  timestamp                   group      landing_page  converted\n",
       "630000   2017-01-19 06:26:06.548941  treatment  new_page      0            1\n",
       "840313   2017-01-02 19:23:46.139371  treatment  new_page      0            1\n",
       "840300   2017-01-14 01:56:49.176187  treatment  new_page      0            1\n",
       "840302   2017-01-09 17:54:02.034139  treatment  new_page      0            1\n",
       "840306   2017-01-11 04:02:28.271160  treatment  new_page      0            1\n",
       "                                                                          ..\n",
       "734911   2017-01-22 17:27:20.964901  treatment  new_page      0            1\n",
       "734910   2017-01-09 10:39:23.462637  treatment  new_page      0            1\n",
       "734909   2017-01-09 19:40:14.916799  treatment  new_page      1            1\n",
       "734901   2017-01-07 01:52:02.329270  treatment  new_page      1            1\n",
       "945999   2017-01-16 04:56:21.132067  treatment  new_page      0            1\n",
       "Length: 145310, dtype: int64"
      ]
     },
     "execution_count": 14,
     "metadata": {},
     "output_type": "execute_result"
    }
   ],
   "source": [
    "df_cleaned[df_cleaned['landing_page'] == 'new_page'].value_counts()"
   ]
  },
  {
   "cell_type": "code",
   "execution_count": 15,
   "id": "bd6056c3",
   "metadata": {},
   "outputs": [
    {
     "data": {
      "image/png": "[encoded data removed]",
      "text/plain": [
       "<Figure size 432x288 with 1 Axes>"
      ]
     },
     "metadata": {},
     "output_type": "display_data"
    }
   ],
   "source": [
    "df_cleaned['landing_page'].value_counts().plot.pie();"
   ]
  },
  {
   "cell_type": "markdown",
   "id": "7e0a88c0",
   "metadata": {},
   "source": [
    "Соотношение людей, посетивших старую и новую страницу практически одинаково."
   ]
  },
  {
   "cell_type": "markdown",
   "id": "2a8bad94",
   "metadata": {},
   "source": [
    "### Cтатистический анализ хи-квадрат\n",
    "Нулевой гипотезой данного исследования является идея о том, что между частотами переходов на старую и новую страницы нет разницы, и они одианковы.  \n",
    "Критерий хи-квадрат сравнивает наблюдаемые и ожидаемые частоты в каждой категории, чтобы проверить, что либо все категории содержат одинаковые доли значений, либо каждая категория содержит заданную долю значений."
   ]
  },
  {
   "cell_type": "code",
   "execution_count": 16,
   "id": "6439e179",
   "metadata": {},
   "outputs": [
    {
     "data": {
      "text/plain": [
       "array([[ 17489, 127785],\n",
       "       [ 17264, 128046]], dtype=int64)"
      ]
     },
     "execution_count": 16,
     "metadata": {},
     "output_type": "execute_result"
    }
   ],
   "source": [
    "a = df_cleaned[df_cleaned['group'] == 'control']\n",
    "b = df_cleaned[df_cleaned['group'] == 'treatment']\n",
    "\n",
    "a_click = a.converted.sum()\n",
    "a_noclick = a.converted.size - a.converted.sum()\n",
    "b_click = b.converted.sum()\n",
    "b_noclick = b.converted.size - b.converted.sum()\n",
    "\n",
    "T = np.array([[a_click, a_noclick], [b_click, b_noclick]])\n",
    "T"
   ]
  },
  {
   "cell_type": "code",
   "execution_count": 17,
   "id": "73d2dbe6",
   "metadata": {},
   "outputs": [
    {
     "name": "stdout",
     "output_type": "stream",
     "text": [
      "p =  0.1918222809623566\n"
     ]
    }
   ],
   "source": [
    "from scipy.stats import chi2_contingency\n",
    "print('p = ', chi2_contingency(T)[1])"
   ]
  },
  {
   "cell_type": "markdown",
   "id": "66703ffc",
   "metadata": {},
   "source": [
    "Расчетное значение p равно **19%**. Предполагая уровень значимости 5%, мы можем сделать вывод, что мы *не отвергаем нулевую гипотезу*. Проще говоря, конверсии между старой и новой веб-страницей не имеют значения."
   ]
  },
  {
   "cell_type": "code",
   "execution_count": 18,
   "id": "b6bae5f1",
   "metadata": {},
   "outputs": [
    {
     "name": "stdout",
     "output_type": "stream",
     "text": [
      "0.1203863045004612 0.11880806551510564\n"
     ]
    }
   ],
   "source": [
    "a_test = a_click / (a_click + a_noclick)\n",
    "b_test = b_click / (b_click + b_noclick)\n",
    "print(a_test, b_test)"
   ]
  },
  {
   "cell_type": "markdown",
   "id": "ac5d86b8",
   "metadata": {},
   "source": [
    "Проверка в виде расчета отношения перешедших по старой и новой странице практически одинаковые, следовательно,   \n",
    "**вывод о верности нулевой гипотезы верен.**"
   ]
  }
 ],
 "metadata": {
  "kernelspec": {
   "display_name": "Python 3 (ipykernel)",
   "language": "python",
   "name": "python3"
  },
  "language_info": {
   "codemirror_mode": {
    "name": "ipython",
    "version": 3
   },
   "file_extension": ".py",
   "mimetype": "text/x-python",
   "name": "python",
   "nbconvert_exporter": "python",
   "pygments_lexer": "ipython3",
   "version": "3.9.7"
  }
 },
 "nbformat": 4,
 "nbformat_minor": 5
}
